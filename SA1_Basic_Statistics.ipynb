{
  "nbformat": 4,
  "nbformat_minor": 0,
  "metadata": {
    "colab": {
      "provenance": []
    },
    "kernelspec": {
      "name": "python3",
      "display_name": "Python 3"
    },
    "language_info": {
      "name": "python"
    }
  },
  "cells": [
    {
      "cell_type": "markdown",
      "source": [
        "### **1. Explain the different types of data (qualitative and quantitative) and provide examples of each. Discuss nominal, ordinal, interval, and ratio scales.**\n"
      ],
      "metadata": {
        "id": "JBAeGNeKkEjE"
      }
    },
    {
      "cell_type": "markdown",
      "source": [
        "### Types of Data and Measurement Scales\n",
        "\n",
        "#### **Different Types of Data**\n",
        "Data can be categorized into **qualitative** and **quantitative** types. This classification is based on whether the data describes non-numerical attributes (Qualitative) or measurable quantities (Quantitative).\n",
        "\n",
        "### 1. Qualitative Data (Categorical)\n",
        "- **Definition:** Represents non-numeric characteristics or labels. Qualitative data describes qualities or attributes. To be concise qualitative data are generally text types of data.\n",
        "- Examples:\n",
        "  - Blood type (A, B, AB, O)\n",
        "  - Gender (Male, Female)\n",
        "- **Subtypes:** Qualitative data can be classified further in two types.\n",
        "  - *Nominal Data:* Categories **without any natural order** (e.g., colors: Red, Green, Blue).  Useful in demographic or categorical analysis for categories like regions or blood groups.\n",
        "  - *Ordinal Data:* Categories with a meaningful order but no fixed interval (e.g., rankings: 1st, 2nd, 3rd). Mostly applied in survey scales such as satisfaction levels.\n",
        "\n",
        "### 2. Quantitative Data (Numerical)\n",
        "- **Definition:** Represents numeric values that can be measured or counted. To be specific the data which are some kind of values, and will always be numerical.\n",
        "- **Examples:**\n",
        "  - Age (25, 30, 45)\n",
        "  - No. of students in a class\n",
        "- **Subtypes:** Quantitative data can be further classified into two types -\n",
        "  - *Discrete Data:* Data which are Countable values (or integer values), can be finite or infinite. (e.g., number of students in a batch: 0, 1, 2).\n",
        "  - *Continuous Data:* Data which are Measurable and can take any value within a range and can't be counted. (e.g., weight: 68.5 kg).\n",
        "\n",
        "---\n",
        "\n",
        "### Measurement Scales -\n",
        "Scales are essential because they helps to:\n",
        "\n",
        "I. Categorize data appropriately (e.g., gender, scores, heights).\n",
        "\n",
        "II. Choose the useful statistical techniques for computation (e.g., whether we can calculate averages or just count categories).\n",
        "\n",
        "III. Interpret the insights accurately (e.g., understanding a meaningful difference in scores).\n",
        "\n",
        "Scales are categorized into four levels based on how much information they provide and what operations we can perform on them:\n",
        "### 1. Nominal Scale\n",
        "- A nominal scale is used for labeling or categorizing data without any specific order or ranking.\n",
        "\n",
        "**Example:**\n",
        "- Gender (Male, Female, Other),\n",
        "- Colors (Black. Blue, Red).\n",
        "\n",
        "**Properties:**\n",
        "  - No arithmetic operations are meaningful. Only operation that can be done is counting.\n",
        "  - Data is purely qualitative.\n",
        "  - No order among the categories.\n",
        "  - Central tendency: Mode.\n",
        "\n",
        "### 2. Ordinal Scale\n",
        "- An ordinal scale is used for data that can be ranked or ordered, but the difference between the ranks is not measurable or consistent.\n",
        "\n",
        "**Example:**\n",
        "- Education levels: Primary < Secondary < Graduate < Postgraduate.\n",
        "- Customer satisfaction: Poor < Average < Good < Excellent.\n",
        "- Movie ratings: 1 star < 2 stars < 3 stars.\n",
        "\n",
        "**Properties:**\n",
        "- Data has a logical order or ranking.\n",
        "- The intervals between ranks need not to be equal (e.g., the difference between \"Poor\" and \"Average\" may not be the same as between \"Good\" and \"Excellent\").\n",
        "- Central tendency: Median or mode.\n",
        "\n",
        "\n",
        "\n",
        "### 3. Interval Scale\n",
        "- An interval scale provides **numeric data** where the intervals between values are equal and meaningful, but the scale *lacks a true zero point.*\n",
        "\n",
        "**Example:**\n",
        "- Temperature in Celsius or Fahrenheit:\n",
        "30°C is 10°C warmer than 20°C, but 0°C does not mean \"no temperature.\"\n",
        "- IQ scores:\n",
        "A score of 120 is higher than 100, but it doesn't mean \"twice as intelligent.\"\n",
        "\n",
        "**Properties:**\n",
        "- Data is numeric with equal intervals.\n",
        "\n",
        "- Arithmetic operations like addition and subtraction are meaningful.\n",
        "- Ratios are not meaningful.\n",
        "- Central tendency: Mean, median, and mode.\n",
        "\n",
        "\n",
        "\n",
        "### 4. Ratio Scale\n",
        "- A ratio scale is the most advanced scale, providing numeric data with equal intervals and a true zero point, which allows for meaningful ratios.\n",
        "\n",
        "**Example:**\n",
        "- Weight: 0 kg means no weight, and 50 kg is twice as heavy as 25 kg.\n",
        "- Height: 0 cm means no height, and 180 cm is twice as tall as 90 cm.\n",
        "- Income: $0 means no income, and $100 is twice as much as $50.\n",
        "\n",
        "**Properties:**\n",
        "- All arithmetic operations are meaningful.\n",
        "- Can Calculate ratios (e.g., 60 kg is twice as heavy as 30 kg).\n",
        "- Central tendency: Mean, median, mode.\n",
        "\n",
        "\n",
        "---\n",
        "\n",
        "## 3. Comparison of Scales\n",
        "| Scale       | Order | Equal Intervals | Meaningful True Zero | Example             | Central Tendency |\n",
        "|-------------|-------|-----------------|--------------|---------------------|------------------|\n",
        "| Nominal     | No    | No              | No        | Gender, Blood Type  | Mode             |\n",
        "| Ordinal     | Yes   | No              | No        | Movie Ratings       | Median, Mode     |\n",
        "| Interval    | Yes   | Yes             | No        | Temperature (°C)    | Mean, Median, Mode     |\n",
        "| Ratio       | Yes   | Yes             | Yes       | Height, Weight      | Mean, Median, Mode     |\n",
        "\n",
        "---\n",
        "\n"
      ],
      "metadata": {
        "id": "a7Pq392akEfx"
      }
    },
    {
      "cell_type": "markdown",
      "source": [
        "### **2. What are the measures of central tendency, and when should you use each? Discuss the mean, median, and mode with examples and situations where each is appropriate.**"
      ],
      "metadata": {
        "id": "8vANMKBHkEdv"
      }
    },
    {
      "cell_type": "markdown",
      "source": [
        "\n",
        "### Measures of Central Tendency\n",
        "\n",
        "The three most commonly used central tendency measures are **mean**, **median**, and **mode**.\n",
        "\n",
        "---\n",
        "\n",
        "### 1. Mean\n",
        "-  The mean or average is the sum of all values in a dataset divided by the total number of observations. We have 3 types of mean, Arithmatic Mean (AM),  Geometric Mean (GM), and Harmonic Mean (HM) with a inequality - $AM \\ge GM \\ge HM$ and another relation as $AM × GM = HM^2$\n",
        "- General Formula:  \n",
        "   \n",
        "   $\\text{AM} = \\frac{\\sum x_i}{n}$\n",
        "\n",
        "   $\\text{AM_fr} = \\frac{\\sum x_i f_i}{\\sum f_i }$\n",
        "    \n",
        "Where $(X_i)$ is each data value, and $(f_i)$ is the corresponding frequency. (n\\) is the number of observations.\n",
        "\n",
        "\n",
        "**When to Use**:  \n",
        "- For data with no outliers and in case of a symmetric distribution, Mean as  a central tendency measure works best.  \n",
        "  - Example: Calculating the average score of students in a class.  \n",
        "\n",
        "**Advantages**:  \n",
        "  - Easy to calculate and widely used.  \n",
        "  - Considers every data point.  \n",
        "\n",
        "**Limitations**:  \n",
        "  - Highly affected by extreme values (outliers).  \n",
        "  - May not represent the dataset well in skewed distributions.\n",
        "\n",
        "---\n",
        "\n",
        "### 2. Median\n",
        "- The median is nothing but the middle value of an ordered dataset.  \n",
        "  - If $n$ (number of observations) is odd: Median = Middle value.  \n",
        "  - If $n$ is even: Median = Average of the two middle values.  \n",
        "\n",
        "**Example**:  \n",
        "  - Dataset: [10, 20, 30] (odd $(n = 3)$)  \n",
        "  Median = 20  \n",
        "  - Dataset: [10, 20, 30, 40] (even $(n = 4)$)  \n",
        "  Median = $(\\frac{20 + 30}{2}) = 25$\n",
        "\n",
        "**When to Use**:  \n",
        "  - For skewed data or for data with extreme values (Outliers)\n",
        "  - Example: Analyzing household incomes where a few very high incomes skew the mean.  \n",
        "\n",
        "**Advantages**:  \n",
        "  - Robust to outliers. Which excludes the limitation of the Mean.\n",
        "  - Gives a better central value for non-symmetric distributions.  \n",
        "\n",
        "**Limitations**:  \n",
        "  - Does not consider all data points.  Mainly depends on the middle values for sorted data.\n",
        "  - Difficult to calculate for large datasets without software. As median has a very tedious formula for manual calculation when considering a frequency distribution.\n",
        "\n",
        "---\n",
        "\n",
        "### 3. Mode\n",
        "- The mode is the data point which occured most frequently in a dataset or in other words the data point which has the highest frequncy.  \n",
        "  - A dataset can be unimodal (one mode), bimodal (two modes), or multimodal (more than two modes).\n",
        "\n",
        "**Example**:  \n",
        "- Dataset: [10, 20, 20, 30, 40]  \n",
        "- Mode = 20 (as it appears twice).  \n",
        "\n",
        "**When to Use**:  \n",
        "  - For categorical data or to identify the most common category.  \n",
        "  - Example: Determining the most popular product in a store.  \n",
        "\n",
        "**Advantages**:  \n",
        "  - Easy to identify.  \n",
        "  - Useful for categorical data.  \n",
        "\n",
        "**Limitations**:  \n",
        "  - Not always unique (multiple modes).  \n",
        "  - Does not use all data points.\n",
        "\n",
        "---\n",
        "\n",
        "\n",
        "| Measure | Best for                    | Advantages                          | Limitations                         |\n",
        "|---------|-----------------------------|-------------------------------------|-------------------------------------|\n",
        "| Mean    | Symmetric data              | Considers all data points           | Affected by outliers.               |\n",
        "| Median  | Skewed data, outliers       | Robust to outliers                  | Ignores other data points.          |\n",
        "| Mode    | Categorical or discrete data| Simple to identify; useful for modes| May not exist or be unique.         |\n",
        "\n",
        "---\n",
        "\n",
        "#### Real life Examples:\n",
        "1. **Mean**:  \n",
        "   - Use for calculating average marks in an exam when the marks distribution is roughly symmetric.  \n",
        "2. **Median**:  \n",
        "   - Use for finding the typical house price in a city with extreme high-value properties.  \n",
        "3. **Mode**:  \n",
        "   - Use for determining the most sold product in a supermarket (e.g., toothpaste brands).  \n",
        "\n",
        "\n"
      ],
      "metadata": {
        "id": "PRjV9V8cUSFW"
      }
    },
    {
      "cell_type": "markdown",
      "source": [
        "### **3. Explain the concept of dispersion. How do variance and standard deviation measure the spread of data?**\n"
      ],
      "metadata": {
        "id": "ORIRQH_QkEbZ"
      }
    },
    {
      "cell_type": "markdown",
      "source": [
        "\n",
        "#### Dispersion\n",
        "\n",
        "**Dispersion** refers to the extent to which data points in a dataset vary or **spread** out from the central value (mean, median, or mode). It measures the degree of variability or spreadness in the data.\n",
        "\n",
        "  - Helps to understand the distribution of data.  \n",
        "  - Indicates whether data points are closely clustered or widely spread.  \n",
        "  - Essential for comparing datasets and identifying outliers.\n",
        "\n",
        "**Common Measures of Dispersion**:  \n",
        "  - **Range**: Difference between the maximum and minimum values.  \n",
        "  - **Interquartile Range (IQR)**: Spread or range of the middle 50% of data.  \n",
        "  - **Variance**: Average of the squared differences from the mean.\n",
        "\n",
        "$Var (\\sigma^2) = \\frac{1}{n} {\\sum (X_i - \\bar{X})^2} \\quad \\text{(for population)} $\n",
        "  - **Standard Deviation**: Square root of the variance, expressed in the same units as the data.\n",
        "\n",
        "\n",
        "$SD (\\sigma) = \\sqrt{\\sigma^2} \\quad \\text{(for population)}$\n",
        "\n",
        "---\n",
        "**Interpretation**\n",
        "- Larger variance means the data points are more spread out from the mean.\n",
        "- Lower the SD or Var more the presence of symmetricity in the data.\n",
        "- For a perfectly symmetrical data Variance is 0.\n",
        "\n",
        "*We prefer SD over Variance because*\n",
        "\n",
        "- SD is easier to interpret, being in the same units as the data.\n",
        "- SD aligns with real-world understanding and comparisons.\n",
        "While variance is critical in mathematical contexts, SD bridges theory and practical interpretation.\n",
        "\n",
        "### Real-World Examples:\n",
        "1. **Low Dispersion**:  \n",
        "   - A company's employee ages cluster around the mean (e.g., 25–30 years old).  \n",
        "   - Small SD indicates homogeneity in the workforce.  \n",
        "\n",
        "2. **High Dispersion**:  \n",
        "   - Exam scores range widely from 30% to 95%.  \n",
        "   - Large SD highlights performance differences.\n",
        "\n",
        "---\n",
        "\n",
        "\n"
      ],
      "metadata": {
        "id": "gbVhLFt3awy2"
      }
    },
    {
      "cell_type": "markdown",
      "source": [
        "### **4. What is a box plot, and what can it tell you about the distribution of data?**"
      ],
      "metadata": {
        "id": "0cHLW_h5kEY_"
      }
    },
    {
      "cell_type": "markdown",
      "source": [
        "\n",
        "A **box plot** (or box-and-whisker plot) is a graphical representation of the distribution of a dataset based on a five-number summary:\n",
        "1. **Minimum**: The smallest value (excluding outliers).\n",
        "2. **First Quartile (Q1)**: The value below which 25% of the data lies.\n",
        "3. **Median (Q2)**: The middle value of the dataset.\n",
        "4. **Third Quartile (Q3)**: The value below which 75% of the data lies.\n",
        "5. **Maximum**: The largest value (excluding outliers).\n",
        "\n",
        "---\n",
        "**It helps us to visualize and understand the followings:**\n",
        "1. **Spread of Data**: The length of the box (IQR = Q3 - Q1) represents the middle 50% of the data.  \n",
        "2. **Central Tendency**: The line inside the box shows the median.  \n",
        "3. **Skewness**:  \n",
        "   - Symmetry: Median is centered in the box.  \n",
        "   - Skewed: Median is closer to Q1 (right skew) or Q3 (left skew).  \n",
        "4. **Outliers**: Data points beyond 1.5 × IQR from Q1 or Q3 are plotted as individual points.\n",
        "\n",
        "---\n",
        "\n",
        "### Example:\n",
        "For the dataset: \\[2, 4, 6, 8, 10, 12, 50\\]  \n",
        "- Q1 = 4, Median = 8, Q3 = 12, IQR = \\(12 - 4 = 8\\).  \n",
        "- Outlier: 50 (greater than $(Q3 + 1.5 \\times IQR = 24)$).\n",
        "\n",
        "### Interpretation:\n",
        "1. Highlights data concentration and variability.  \n",
        "2. Detects skewness and outliers.  \n",
        "\n",
        "**Conclusion**: A box plot is a powerful tool for visualizing the overall distribution, spotting outliers, and understanding data symmetry.\n"
      ],
      "metadata": {
        "id": "rMCXmR9xhaQB"
      }
    },
    {
      "cell_type": "code",
      "source": [
        "import matplotlib.pyplot as plt\n",
        "\n",
        "# Example dataset: Exam scores of students\n",
        "data = [50, 55, 60, 65, 70, 75, 80, 85, 90, 95, 100, 120]  # Includes an outlier (120)\n",
        "\n",
        "# Create the box plot\n",
        "plt.boxplot(data, vert=True, patch_artist=True, boxprops=dict(facecolor='lightblue', color='blue'))\n",
        "\n",
        "# Add titles and labels\n",
        "plt.title(\"Box Plot of Exam Scores\")\n",
        "plt.xlabel(\"Scores\")\n",
        "plt.show()\n"
      ],
      "metadata": {
        "colab": {
          "base_uri": "https://localhost:8080/",
          "height": 472
        },
        "id": "7h1muKC3iSBX",
        "outputId": "c928a2ce-2cda-4700-f70d-72195d2e7361"
      },
      "execution_count": 2,
      "outputs": [
        {
          "output_type": "display_data",
          "data": {
            "text/plain": [
              "<Figure size 640x480 with 1 Axes>"
            ],
            "image/png": "[encoded data removed]"
          },
          "metadata": {}
        }
      ]
    },
    {
      "cell_type": "code",
      "source": [
        "import plotly.express as px\n",
        "import pandas as pd\n",
        "\n",
        "# Example dataset: Exam scores with an outlier\n",
        "data = {'Scores': [50, 55, 60, 65, 70, 75, 80, 85, 90, 95, 100, 120]}  # Outlier: 120\n",
        "\n",
        "# Convert data into a DataFrame\n",
        "df = pd.DataFrame(data)\n",
        "\n",
        "# Create the box plot\n",
        "fig = px.box(\n",
        "    df,\n",
        "    y=\"Scores\",  # Column to visualize\n",
        "    points=\"outliers\",  # Display outliers\n",
        "    title=\"Box Plot of Exam Scores\",\n",
        "    template=\"plotly_white\"\n",
        ")\n",
        "\n",
        "# Customize axes\n",
        "fig.update_layout(\n",
        "    yaxis_title=\"Scores\",\n",
        "    xaxis_title=\"Data Points\"\n",
        ")\n",
        "\n",
        "# Show the plot\n",
        "fig.show()\n"
      ],
      "metadata": {
        "colab": {
          "base_uri": "https://localhost:8080/",
          "height": 542
        },
        "id": "Cj2bBgpdjnUt",
        "outputId": "177c4459-8d60-4791-a22d-0aa04c720194"
      },
      "execution_count": 6,
      "outputs": [
        {
          "output_type": "display_data",
          "data": {
            "text/html": [
              "<html>\n",
              "<head><meta charset=\"utf-8\" /></head>\n",
              "<body>\n",
              "    <div>            <script src=\"https://cdnjs.cloudflare.com/ajax/libs/mathjax/2.7.5/MathJax.js?config=TeX-AMS-MML_SVG\"></script><script type=\"text/javascript\">if (window.MathJax && window.MathJax.Hub && window.MathJax.Hub.Config) {window.MathJax.Hub.Config({SVG: {font: \"STIX-Web\"}});}</script>                <script type=\"text/javascript\">window.PlotlyConfig = {MathJaxConfig: 'local'};</script>\n",
              "        <script charset=\"utf-8\" src=\"https://cdn.plot.ly/plotly-2.35.2.min.js\"></script>                <div id=\"0c610cbc-e80b-42b7-a6e6-1ac2c8d84005\" class=\"plotly-graph-div\" style=\"height:525px; width:100%;\"></div>            <script type=\"text/javascript\">                                    window.PLOTLYENV=window.PLOTLYENV || {};                                    if (document.getElementById(\"0c610cbc-e80b-42b7-a6e6-1ac2c8d84005\")) {                    Plotly.newPlot(                        \"0c610cbc-e80b-42b7-a6e6-1ac2c8d84005\",                        [{\"alignmentgroup\":\"True\",\"boxpoints\":\"outliers\",\"hovertemplate\":\"Scores=%{y}\\u003cextra\\u003e\\u003c\\u002fextra\\u003e\",\"legendgroup\":\"\",\"marker\":{\"color\":\"#636efa\"},\"name\":\"\",\"notched\":false,\"offsetgroup\":\"\",\"orientation\":\"v\",\"showlegend\":false,\"x0\":\" \",\"xaxis\":\"x\",\"y\":[50,55,60,65,70,75,80,85,90,95,100,120],\"y0\":\" \",\"yaxis\":\"y\",\"type\":\"box\"}],                        {\"template\":{\"data\":{\"barpolar\":[{\"marker\":{\"line\":{\"color\":\"white\",\"width\":0.5},\"pattern\":{\"fillmode\":\"overlay\",\"size\":10,\"solidity\":0.2}},\"type\":\"barpolar\"}],\"bar\":[{\"error_x\":{\"color\":\"#2a3f5f\"},\"error_y\":{\"color\":\"#2a3f5f\"},\"marker\":{\"line\":{\"color\":\"white\",\"width\":0.5},\"pattern\":{\"fillmode\":\"overlay\",\"size\":10,\"solidity\":0.2}},\"type\":\"bar\"}],\"carpet\":[{\"aaxis\":{\"endlinecolor\":\"#2a3f5f\",\"gridcolor\":\"#C8D4E3\",\"linecolor\":\"#C8D4E3\",\"minorgridcolor\":\"#C8D4E3\",\"startlinecolor\":\"#2a3f5f\"},\"baxis\":{\"endlinecolor\":\"#2a3f5f\",\"gridcolor\":\"#C8D4E3\",\"linecolor\":\"#C8D4E3\",\"minorgridcolor\":\"#C8D4E3\",\"startlinecolor\":\"#2a3f5f\"},\"type\":\"carpet\"}],\"choropleth\":[{\"colorbar\":{\"outlinewidth\":0,\"ticks\":\"\"},\"type\":\"choropleth\"}],\"contourcarpet\":[{\"colorbar\":{\"outlinewidth\":0,\"ticks\":\"\"},\"type\":\"contourcarpet\"}],\"contour\":[{\"colorbar\":{\"outlinewidth\":0,\"ticks\":\"\"},\"colorscale\":[[0.0,\"#0d0887\"],[0.1111111111111111,\"#46039f\"],[0.2222222222222222,\"#7201a8\"],[0.3333333333333333,\"#9c179e\"],[0.4444444444444444,\"#bd3786\"],[0.5555555555555556,\"#d8576b\"],[0.6666666666666666,\"#ed7953\"],[0.7777777777777778,\"#fb9f3a\"],[0.8888888888888888,\"#fdca26\"],[1.0,\"#f0f921\"]],\"type\":\"contour\"}],\"heatmapgl\":[{\"colorbar\":{\"outlinewidth\":0,\"ticks\":\"\"},\"colorscale\":[[0.0,\"#0d0887\"],[0.1111111111111111,\"#46039f\"],[0.2222222222222222,\"#7201a8\"],[0.3333333333333333,\"#9c179e\"],[0.4444444444444444,\"#bd3786\"],[0.5555555555555556,\"#d8576b\"],[0.6666666666666666,\"#ed7953\"],[0.7777777777777778,\"#fb9f3a\"],[0.8888888888888888,\"#fdca26\"],[1.0,\"#f0f921\"]],\"type\":\"heatmapgl\"}],\"heatmap\":[{\"colorbar\":{\"outlinewidth\":0,\"ticks\":\"\"},\"colorscale\":[[0.0,\"#0d0887\"],[0.1111111111111111,\"#46039f\"],[0.2222222222222222,\"#7201a8\"],[0.3333333333333333,\"#9c179e\"],[0.4444444444444444,\"#bd3786\"],[0.5555555555555556,\"#d8576b\"],[0.6666666666666666,\"#ed7953\"],[0.7777777777777778,\"#fb9f3a\"],[0.8888888888888888,\"#fdca26\"],[1.0,\"#f0f921\"]],\"type\":\"heatmap\"}],\"histogram2dcontour\":[{\"colorbar\":{\"outlinewidth\":0,\"ticks\":\"\"},\"colorscale\":[[0.0,\"#0d0887\"],[0.1111111111111111,\"#46039f\"],[0.2222222222222222,\"#7201a8\"],[0.3333333333333333,\"#9c179e\"],[0.4444444444444444,\"#bd3786\"],[0.5555555555555556,\"#d8576b\"],[0.6666666666666666,\"#ed7953\"],[0.7777777777777778,\"#fb9f3a\"],[0.8888888888888888,\"#fdca26\"],[1.0,\"#f0f921\"]],\"type\":\"histogram2dcontour\"}],\"histogram2d\":[{\"colorbar\":{\"outlinewidth\":0,\"ticks\":\"\"},\"colorscale\":[[0.0,\"#0d0887\"],[0.1111111111111111,\"#46039f\"],[0.2222222222222222,\"#7201a8\"],[0.3333333333333333,\"#9c179e\"],[0.4444444444444444,\"#bd3786\"],[0.5555555555555556,\"#d8576b\"],[0.6666666666666666,\"#ed7953\"],[0.7777777777777778,\"#fb9f3a\"],[0.8888888888888888,\"#fdca26\"],[1.0,\"#f0f921\"]],\"type\":\"histogram2d\"}],\"histogram\":[{\"marker\":{\"pattern\":{\"fillmode\":\"overlay\",\"size\":10,\"solidity\":0.2}},\"type\":\"histogram\"}],\"mesh3d\":[{\"colorbar\":{\"outlinewidth\":0,\"ticks\":\"\"},\"type\":\"mesh3d\"}],\"parcoords\":[{\"line\":{\"colorbar\":{\"outlinewidth\":0,\"ticks\":\"\"}},\"type\":\"parcoords\"}],\"pie\":[{\"automargin\":true,\"type\":\"pie\"}],\"scatter3d\":[{\"line\":{\"colorbar\":{\"outlinewidth\":0,\"ticks\":\"\"}},\"marker\":{\"colorbar\":{\"outlinewidth\":0,\"ticks\":\"\"}},\"type\":\"scatter3d\"}],\"scattercarpet\":[{\"marker\":{\"colorbar\":{\"outlinewidth\":0,\"ticks\":\"\"}},\"type\":\"scattercarpet\"}],\"scattergeo\":[{\"marker\":{\"colorbar\":{\"outlinewidth\":0,\"ticks\":\"\"}},\"type\":\"scattergeo\"}],\"scattergl\":[{\"marker\":{\"colorbar\":{\"outlinewidth\":0,\"ticks\":\"\"}},\"type\":\"scattergl\"}],\"scattermapbox\":[{\"marker\":{\"colorbar\":{\"outlinewidth\":0,\"ticks\":\"\"}},\"type\":\"scattermapbox\"}],\"scatterpolargl\":[{\"marker\":{\"colorbar\":{\"outlinewidth\":0,\"ticks\":\"\"}},\"type\":\"scatterpolargl\"}],\"scatterpolar\":[{\"marker\":{\"colorbar\":{\"outlinewidth\":0,\"ticks\":\"\"}},\"type\":\"scatterpolar\"}],\"scatter\":[{\"fillpattern\":{\"fillmode\":\"overlay\",\"size\":10,\"solidity\":0.2},\"type\":\"scatter\"}],\"scatterternary\":[{\"marker\":{\"colorbar\":{\"outlinewidth\":0,\"ticks\":\"\"}},\"type\":\"scatterternary\"}],\"surface\":[{\"colorbar\":{\"outlinewidth\":0,\"ticks\":\"\"},\"colorscale\":[[0.0,\"#0d0887\"],[0.1111111111111111,\"#46039f\"],[0.2222222222222222,\"#7201a8\"],[0.3333333333333333,\"#9c179e\"],[0.4444444444444444,\"#bd3786\"],[0.5555555555555556,\"#d8576b\"],[0.6666666666666666,\"#ed7953\"],[0.7777777777777778,\"#fb9f3a\"],[0.8888888888888888,\"#fdca26\"],[1.0,\"#f0f921\"]],\"type\":\"surface\"}],\"table\":[{\"cells\":{\"fill\":{\"color\":\"#EBF0F8\"},\"line\":{\"color\":\"white\"}},\"header\":{\"fill\":{\"color\":\"#C8D4E3\"},\"line\":{\"color\":\"white\"}},\"type\":\"table\"}]},\"layout\":{\"annotationdefaults\":{\"arrowcolor\":\"#2a3f5f\",\"arrowhead\":0,\"arrowwidth\":1},\"autotypenumbers\":\"strict\",\"coloraxis\":{\"colorbar\":{\"outlinewidth\":0,\"ticks\":\"\"}},\"colorscale\":{\"diverging\":[[0,\"#8e0152\"],[0.1,\"#c51b7d\"],[0.2,\"#de77ae\"],[0.3,\"#f1b6da\"],[0.4,\"#fde0ef\"],[0.5,\"#f7f7f7\"],[0.6,\"#e6f5d0\"],[0.7,\"#b8e186\"],[0.8,\"#7fbc41\"],[0.9,\"#4d9221\"],[1,\"#276419\"]],\"sequential\":[[0.0,\"#0d0887\"],[0.1111111111111111,\"#46039f\"],[0.2222222222222222,\"#7201a8\"],[0.3333333333333333,\"#9c179e\"],[0.4444444444444444,\"#bd3786\"],[0.5555555555555556,\"#d8576b\"],[0.6666666666666666,\"#ed7953\"],[0.7777777777777778,\"#fb9f3a\"],[0.8888888888888888,\"#fdca26\"],[1.0,\"#f0f921\"]],\"sequentialminus\":[[0.0,\"#0d0887\"],[0.1111111111111111,\"#46039f\"],[0.2222222222222222,\"#7201a8\"],[0.3333333333333333,\"#9c179e\"],[0.4444444444444444,\"#bd3786\"],[0.5555555555555556,\"#d8576b\"],[0.6666666666666666,\"#ed7953\"],[0.7777777777777778,\"#fb9f3a\"],[0.8888888888888888,\"#fdca26\"],[1.0,\"#f0f921\"]]},\"colorway\":[\"#636efa\",\"#EF553B\",\"#00cc96\",\"#ab63fa\",\"#FFA15A\",\"#19d3f3\",\"#FF6692\",\"#B6E880\",\"#FF97FF\",\"#FECB52\"],\"font\":{\"color\":\"#2a3f5f\"},\"geo\":{\"bgcolor\":\"white\",\"lakecolor\":\"white\",\"landcolor\":\"white\",\"showlakes\":true,\"showland\":true,\"subunitcolor\":\"#C8D4E3\"},\"hoverlabel\":{\"align\":\"left\"},\"hovermode\":\"closest\",\"mapbox\":{\"style\":\"light\"},\"paper_bgcolor\":\"white\",\"plot_bgcolor\":\"white\",\"polar\":{\"angularaxis\":{\"gridcolor\":\"#EBF0F8\",\"linecolor\":\"#EBF0F8\",\"ticks\":\"\"},\"bgcolor\":\"white\",\"radialaxis\":{\"gridcolor\":\"#EBF0F8\",\"linecolor\":\"#EBF0F8\",\"ticks\":\"\"}},\"scene\":{\"xaxis\":{\"backgroundcolor\":\"white\",\"gridcolor\":\"#DFE8F3\",\"gridwidth\":2,\"linecolor\":\"#EBF0F8\",\"showbackground\":true,\"ticks\":\"\",\"zerolinecolor\":\"#EBF0F8\"},\"yaxis\":{\"backgroundcolor\":\"white\",\"gridcolor\":\"#DFE8F3\",\"gridwidth\":2,\"linecolor\":\"#EBF0F8\",\"showbackground\":true,\"ticks\":\"\",\"zerolinecolor\":\"#EBF0F8\"},\"zaxis\":{\"backgroundcolor\":\"white\",\"gridcolor\":\"#DFE8F3\",\"gridwidth\":2,\"linecolor\":\"#EBF0F8\",\"showbackground\":true,\"ticks\":\"\",\"zerolinecolor\":\"#EBF0F8\"}},\"shapedefaults\":{\"line\":{\"color\":\"#2a3f5f\"}},\"ternary\":{\"aaxis\":{\"gridcolor\":\"#DFE8F3\",\"linecolor\":\"#A2B1C6\",\"ticks\":\"\"},\"baxis\":{\"gridcolor\":\"#DFE8F3\",\"linecolor\":\"#A2B1C6\",\"ticks\":\"\"},\"bgcolor\":\"white\",\"caxis\":{\"gridcolor\":\"#DFE8F3\",\"linecolor\":\"#A2B1C6\",\"ticks\":\"\"}},\"title\":{\"x\":0.05},\"xaxis\":{\"automargin\":true,\"gridcolor\":\"#EBF0F8\",\"linecolor\":\"#EBF0F8\",\"ticks\":\"\",\"title\":{\"standoff\":15},\"zerolinecolor\":\"#EBF0F8\",\"zerolinewidth\":2},\"yaxis\":{\"automargin\":true,\"gridcolor\":\"#EBF0F8\",\"linecolor\":\"#EBF0F8\",\"ticks\":\"\",\"title\":{\"standoff\":15},\"zerolinecolor\":\"#EBF0F8\",\"zerolinewidth\":2}}},\"xaxis\":{\"anchor\":\"y\",\"domain\":[0.0,1.0],\"title\":{\"text\":\"Data Points\"}},\"yaxis\":{\"anchor\":\"x\",\"domain\":[0.0,1.0],\"title\":{\"text\":\"Scores\"}},\"legend\":{\"tracegroupgap\":0},\"title\":{\"text\":\"Box Plot of Exam Scores\"},\"boxmode\":\"group\"},                        {\"responsive\": true}                    ).then(function(){\n",
              "                            \n",
              "var gd = document.getElementById('0c610cbc-e80b-42b7-a6e6-1ac2c8d84005');\n",
              "var x = new MutationObserver(function (mutations, observer) {{\n",
              "        var display = window.getComputedStyle(gd).display;\n",
              "        if (!display || display === 'none') {{\n",
              "            console.log([gd, 'removed!']);\n",
              "            Plotly.purge(gd);\n",
              "            observer.disconnect();\n",
              "        }}\n",
              "}});\n",
              "\n",
              "// Listen for the removal of the full notebook cells\n",
              "var notebookContainer = gd.closest('#notebook-container');\n",
              "if (notebookContainer) {{\n",
              "    x.observe(notebookContainer, {childList: true});\n",
              "}}\n",
              "\n",
              "// Listen for the clearing of the current output cell\n",
              "var outputEl = gd.closest('.output');\n",
              "if (outputEl) {{\n",
              "    x.observe(outputEl, {childList: true});\n",
              "}}\n",
              "\n",
              "                        })                };                            </script>        </div>\n",
              "</body>\n",
              "</html>"
            ]
          },
          "metadata": {}
        }
      ]
    },
    {
      "cell_type": "markdown",
      "source": [
        "### **5. Discuss the role of random sampling in making inferences about populations.**\n"
      ],
      "metadata": {
        "id": "YZesnpVmkEWa"
      }
    },
    {
      "cell_type": "markdown",
      "source": [
        "\n",
        "Random sampling is a technique where each member of a population has an equal chance of being selected for a sample, ensuring the sample is unbiased and representative.\n",
        "\n",
        "**Importance of Random Sampling**\n",
        "\n",
        "- **Reduces Bias**: Ensures all segments of the population are equally represented. Which ensures every member of the population has an equal probability to be in the sample.\n",
        "- **Represents Population**: Helps make the sample an accurate reflection of the population.\n",
        "- **Enables Inferences**: Allows for generalizations from the sample to the population.\n",
        "- **Central Limit Theorem**: Supports reliable predictions by ensuring the sample means follow a normal distribution as the sample size increases.\n",
        "- **Confidence Intervals & Hypothesis Testing**: Essential for constructing confidence intervals and testing hypotheses.\n",
        "\n",
        "\n",
        "\n",
        "\n"
      ],
      "metadata": {
        "id": "UNNXpt4okxH-"
      }
    },
    {
      "cell_type": "markdown",
      "source": [
        "### **6. Explain the concept of skewness and its types. How does skewness affect the interpretation of data?**\n"
      ],
      "metadata": {
        "id": "dsQF0J6WkEUC"
      }
    },
    {
      "cell_type": "markdown",
      "source": [
        "\n",
        "Skewness is the measures of the symmetricity of a data distribution. It indicates how much the data deviates from a normal distribution or a perfectly symmetric distribution, by focusing on the tail of the distribution.\n",
        "\n",
        "#### Types of Skewness\n",
        "\n",
        "1. **Positive Skewness (Right Skew)**:\n",
        "   - Tail is on the right side.\n",
        "   - Most data points are concentrated on the left, with a few large values on the right.\n",
        "   \n",
        "2. **Negative Skewness (Left Skew)**:\n",
        "   - Tail is on the left side.\n",
        "   - Most data points are concentrated on the right, with a few small values on the left.\n",
        "\n",
        "3. **Zero Skewness (Symmetric)**:\n",
        "   - The distribution is symmetrical, and the mean and median are equal. variance is zero.\n",
        "\n",
        "####Data Interpretation\n",
        "\n",
        "- **Positive Skew**: Mean > Median; indicates outliers are large values.\n",
        "- **Negative Skew**: Mean < Median; indicates outliers are small values.\n",
        "- Skewness affects central tendency measures and the interpretation of data trends, as the mean can be pulled towards the skewed tail.\n"
      ],
      "metadata": {
        "id": "dSSBCz3OmIsh"
      }
    },
    {
      "cell_type": "markdown",
      "source": [
        "### **7. What is the interquartile range (IQR), and how is it used to detect outliers?**\n"
      ],
      "metadata": {
        "id": "TtyaCWNNkERg"
      }
    },
    {
      "cell_type": "markdown",
      "source": [
        "\n",
        "The Interquartile Range (IQR) is the difference between the 75th percentile (Q3) and the 25th percentile (Q1) of a dataset:\n",
        "- **IQR = Q3 - Q1**\n",
        "\n",
        "It measures the spread of the middle 50% of the data, representing the range within which the central half of the data lies.\n",
        "\n",
        "#### How is IQR Used to Detect Outliers?\n",
        "\n",
        "Outliers or extreme values are defined as values that fall outside the typical range of data. Using IQR:\n",
        "\n",
        "- After calculating the quartiles for the data we can get the value for IQR2.\n",
        "\n",
        "**Determine Outlier Thresholds**:\n",
        "   - Lower threshold: **Q1 - 1.5 * IQR**\n",
        "   - Upper threshold: **Q3 + 1.5 * IQR**\n",
        "\n",
        "**Identify Outliers**:\n",
        "   - Any data point below the lower threshold or above the upper threshold is considered an outlier.\n",
        "\n",
        "#### Example:\n",
        "\n",
        "For a dataset with Q1 = 10, Q3 = 20, and IQR = 10:\n",
        "  - Lower threshold = 10 - 1.5 * 10 = -5\n",
        "  - Upper threshold = 20 + 1.5 * 10 = 35\n",
        "  - Any data points below -5 or above 35 are outliers.\n"
      ],
      "metadata": {
        "id": "56DomxcUnClc"
      }
    },
    {
      "cell_type": "markdown",
      "source": [
        "### **8. Discuss the conditions under which the binomial distribution is used.**\n"
      ],
      "metadata": {
        "id": "oMF8C_H7kEPJ"
      }
    },
    {
      "cell_type": "markdown",
      "source": [
        "#### Conditions for Using the Binomial Distribution\n",
        "\n",
        "The binomial distribution is used when the following conditions are met:\n",
        "\n",
        "1. **Fixed Number of Trials**: The experiment is conducted a fixed number of times $(n)$.\n",
        "   \n",
        "2. **Two Possible Outcomes**: Each trial has only two possible outcomes, typically referred to as \"success\" and \"failure.\"\n",
        "\n",
        "3. **Constant Probability of Success**: The probability of success $(p)$ is the same for each trial.\n",
        "\n",
        "4. **Independence**: The trials are independent in each trial, meaning the outcome of one trial does not affect the others.\n",
        "\n",
        "\n",
        "The binomial distribution models the number of successes in a fixed number of independent trials, each with the same probability of success. It is widely used in situations like flipping a coin, passing a test, or checking defective products in a batch.\n",
        "\n",
        "**Probability Mass Function (PMF)**\n",
        "\n",
        "$P(X = k) = \\binom{n}{k} p^k (1-p)^{n-k}\n",
        "$\n"
      ],
      "metadata": {
        "id": "KBcHbuirto5f"
      }
    },
    {
      "cell_type": "markdown",
      "source": [
        "### **9. Explain the properties of the normal distribution and the empirical rule (68-95-99.7 rule).**\n"
      ],
      "metadata": {
        "id": "OP3cGgAgkEM4"
      }
    },
    {
      "cell_type": "markdown",
      "source": [
        "#### Properties of the Normal Distribution\n",
        "\n",
        "1. **Symmetry**: The normal distribution is perfectly symmetric around its mean. The left and right sides of the distribution are mirror images.\n",
        "   \n",
        "2. **Bell-shaped Curve**: It has a single peak at the mean, with the tails extending infinitely in both directions. As the distance from the mean increases, the probability of values decreases.\n",
        "\n",
        "3. **Mean, Median, and Mode**: In a normal distribution, the mean, median, and mode are all equal and located at the center of the distribution.\n",
        "\n",
        "4. **Defined by Two Parameters**:\n",
        "   - **Mean ($\\mu$)**: The central location of the distribution.\n",
        "   - **Standard Deviation $(\\sigma)$**: The spread or width of the distribution. A larger standard deviation means the data is more spread out.\n",
        "\n",
        "5. **Tails**: The tails of the distribution approach but never touch the horizontal axis. The data has a non-zero probability of extreme values, though these are rare.\n",
        "\n",
        "6. **Asymptotic**: The probability of observing values far from the mean is very small, but it never reaches zero.\n",
        "\n",
        "**The PDF**\n",
        "\n",
        "$f(x) = \\frac{1}{\\sigma \\sqrt{2\\pi}} e^ {-\\frac{1}{2\\sigma^2} (x - \\mu)^2}$\n",
        "---\n",
        "---\n",
        "#### The Empirical Rule (68-95-99.7 Rule)\n",
        "\n",
        "The empirical rule applies to normal distributions and states that:\n",
        "\n",
        "1. **68%** of the data falls within one standard deviation of the mean $(\\mu \\pm \\sigma)$.\n",
        "2. **95%** of the data falls within two standard deviations of the mean $(\\mu \\pm 2\\sigma)$.\n",
        "3. **99.75%** of the data falls within three standard deviations of the mean $(\\mu \\pm 3\\sigma)$.\n",
        "\n",
        "This rule helps in understanding the spread of data in a normal distribution and provides a quick way to estimate the proportion of data within certain ranges. It holds true for approximately all normal distributions.\n"
      ],
      "metadata": {
        "id": "yu9wZ5sRvugx"
      }
    },
    {
      "cell_type": "code",
      "source": [
        "import numpy as np\n",
        "import matplotlib.pyplot as plt\n",
        "from scipy.stats import norm\n",
        "\n",
        "# Parameters for the normal distribution\n",
        "mu = 0    # Mean\n",
        "sigma = 1 # Standard deviation\n",
        "\n",
        "# Generate a range of x values\n",
        "x = np.linspace(mu - 4*sigma, mu + 4*sigma, 1000)\n",
        "\n",
        "# Get the corresponding y values for the normal distribution PDF\n",
        "y = norm.pdf(x, mu, sigma)\n",
        "\n",
        "# Plot the normal distribution curve\n",
        "plt.plot(x, y, label=f'Normal Distribution\\n$\\mu={mu}$, $\\sigma={sigma}$', color='blue')\n",
        "\n",
        "# Shade the areas corresponding to the empirical rule\n",
        "plt.fill_between(x, y, where=((x >= mu - 2*sigma) & (x <= mu + 2*sigma)), color='green', alpha=0.5, label=\"95% (2 $\\sigma$) (-2 to 2)\")\n",
        "plt.fill_between(x, y, where=((x >= mu - 3*sigma) & (x <= mu + 3*sigma)), color='red', alpha=0.5, label=\"99.7% (3 $\\sigma$) (-3 to 3)\")\n",
        "plt.fill_between(x, y, where=((x >= mu - sigma) & (x <= mu + sigma)), color='blue', alpha=0.5, label=\"68% (1 $\\sigma$) (-1 to 1)\")\n",
        "\n",
        "# Adding labels and title\n",
        "plt.title('Normal Distribution Curve with Empirical Rule (68-95-99.7)')\n",
        "plt.xlabel('X')\n",
        "plt.ylabel('Probability Density')\n",
        "\n",
        "# Display the plot\n",
        "plt.legend()\n",
        "plt.grid(True)\n",
        "plt.show()\n"
      ],
      "metadata": {
        "colab": {
          "base_uri": "https://localhost:8080/",
          "height": 472
        },
        "id": "7TM0XkL-ySRC",
        "outputId": "58fa880b-3a7b-4311-88c8-4a1ef8b617fc"
      },
      "execution_count": 11,
      "outputs": [
        {
          "output_type": "display_data",
          "data": {
            "text/plain": [
              "<Figure size 640x480 with 1 Axes>"
            ],
            "image/png": "[encoded data removed]"
          },
          "metadata": {}
        }
      ]
    },
    {
      "cell_type": "markdown",
      "source": [
        "### **10. Provide a real-life example of a Poisson process and calculate the probability for a specific event.**\n"
      ],
      "metadata": {
        "id": "LVo5BqSdkEKi"
      }
    },
    {
      "cell_type": "markdown",
      "source": [
        "### Poisson Process\n",
        "\n",
        "**Poisson process** is a statistical model used to describe events that occur randomly and independently over time or space. The key assumptions for a Poisson process are:\n",
        "\n",
        "1. **Independence**: The occurrence of one event does not affect the occurrence of another event.\n",
        "2. **Constant Rate**: The events occur at a constant average rate $(\\lambda)$ over time or space.\n",
        "3. **Rare Events**: The probability of more than one event happening in an small time interval is negligible.\n",
        "\n",
        "A Poisson process is characterized by the **Poisson distribution**, which is used to calculate the probability of a given number of events occurring within a fixed interval.\n",
        "\n",
        "\n",
        "#### Poisson is a Special Case of Binomial Distribution\n",
        "\n",
        "The **Poisson distribution** is a special case of the **binomial distribution** when the following conditions are met:\n",
        "\n",
        "1. **Large number of trials $(n)$**: The number of trials is very large.\n",
        "2. **Small probability of success $(p)$**: The probability of success in each trial is very small.\n",
        "3. **Constant mean rate**: The product of the number of trials and the probability of success $(n \\times p)$, which is basically the mean for the binomial, remains constant, and is denoted as $(\\lambda)$ (the average rate of events).\n",
        "\n",
        "Under these conditions, when $(n)$ is large and $(p)$ is small, the binomial distribution $Bin (n, p)$ approximates to the Poisson distribution with parameter $(\\lambda = n \\times p)$.\n",
        "\n",
        "Mathematically, for\n",
        "$ {n \\to \\infty, p \\to 0, \\& \\quad np = \\lambda}$\n",
        "\n",
        "$Bin(n, p) = \\text{Poisson}(\\lambda)$\n",
        "\n",
        "Thus, the Poisson distribution can be seen as the limit of the binomial distribution when the number of trials increases indefinitely, and the probability of success decreases proportionally.\n",
        "\n",
        "\n",
        "**The PMF**\n",
        "\n",
        "- $ P(X = k) = \\frac{1}{k!} \\lambda^k e^{-\\lambda} $\n",
        "\n",
        "\n",
        "---\n",
        "\n",
        "### Real-Life Example of a Poisson Process\n",
        "\n",
        "A **real-life example** of a Poisson process is the number of **customer arrivals at a coffee shop** in a given time period.\n",
        "\n",
        "- Suppose, on average, 3 customers arrives every 10 minutes at the coffee shop. This is a typical example of a Poisson process because the customers arrive independently, the average arrival rate is constant, and the arrivals are rare events that happen within a defined time period.\n",
        "\n",
        "---\n",
        "\n",
        "### Example Calculation\n",
        "\n",
        "Calculating the probability of exactly 2 customers arriving at the coffee shop in the next 10 minutes, where the average arrival rate is 3 customers every 10 minutes $(\\lambda = 3)$.\n",
        "\n",
        "**Given**:\n",
        "   - $\\lambda = 3$ (average arrival rate of 3 customers per 10 minutes)\n",
        "   - $k = 2$ (we are interested in the probability of exactly 2 customers arriving)\n",
        "\n",
        "2. **Applying the Poisson function**:\n",
        "\n",
        "\n",
        "$P(X = 2) = \\frac{3^2 e^{-3}}{2!} = \\frac{9 e^{-3}}{2} = \\frac{9 \\times 0.0498}{2} = 0.224 $\n",
        "\n",
        "Thus, the probability of exactly 2 customers arriving in the next 10 minutes is approximately **0.224** or **22.4%**.\n",
        "\n"
      ],
      "metadata": {
        "id": "tq5BdGhJz7I7"
      }
    },
    {
      "cell_type": "markdown",
      "source": [
        "### **11. Explain what a random variable is and differentiate between discrete and continuous random variables.**"
      ],
      "metadata": {
        "id": "4aAaVEqqkEH7"
      }
    },
    {
      "cell_type": "markdown",
      "source": [
        "\n",
        "A **random variable** is a variable whose value is determined by the outcome of a random phenomenon or experiment.\n",
        "- It is a function that maps the outcomes (Sample space) of a random process to numerical values.\n",
        "\n",
        "There are two main types of random variables:\n",
        "1. **Discrete Random Variables**: These take on a countable number of distinct values.\n",
        "2. **Continuous Random Variables**: These take on an uncountable number of values, typically in a range or interval.\n",
        "\n",
        "---\n",
        "\n",
        "### Discrete vs. Continuous Random Variables\n",
        "\n",
        "#### 1. **Discrete Random Variables**\n",
        "- A discrete random variable can only take specific, countable values. These values are often integers or whole numbers.\n",
        "- **Examples**:\n",
        "  - The number of heads in 10 coin tosses.\n",
        "  - The number of students in a classroom.\n",
        "  - The number of calls received at a call center in a given hour.\n",
        "\n",
        "- **Key Properties**:\n",
        "  - Can be counted.\n",
        "  - Probability mass function (PMF) is used to define the probability of each possible outcome.\n",
        "  - Examples: $( X = \\{0, 1, 2, 3, \\dots \\} )$\n",
        "\n",
        "#### 2. **Continuous Random Variables**\n",
        "-  A continuous random variable can take any value within a given range or interval, which is uncountable. The set of possible values forms a continuum.\n",
        "- **Examples**:\n",
        "  - The height of the students in a class.\n",
        "  - The time taken to run a race.\n",
        "  - The temperature in a city on a given day.\n",
        "\n",
        "- **Key Properties**:\n",
        "  - Can take infinitely many values within an interval.\n",
        "  - Probability density function (PDF) is used to describe the probability of outcomes.\n",
        "  - Examples: $( X \\in [-\\infty, \\infty))$\n",
        "\n",
        "\n"
      ],
      "metadata": {
        "id": "-SLQC5k94nfI"
      }
    },
    {
      "cell_type": "markdown",
      "source": [
        "### **12. Provide an example dataset, calculate both covariance and correlation, and interpret the results.**"
      ],
      "metadata": {
        "id": "DY77eXfJkEB_"
      }
    },
    {
      "cell_type": "markdown",
      "source": [
        "- **Covariance** measures the degree to which two variables change together. A positive covariance indicates that as one variable increases, the other tends to increase as well. A negative covariance indicates that as one variable increases, the other tends to decrease.\n",
        "\n",
        "- $\\text{cov}(X, Y) = \\frac{1}{n-1} \\sum_{i=1}^{n} (X_i - \\bar{X})(Y_i - \\bar{Y})\n",
        "$\n",
        "\n",
        "- Correlation is a scaled version of covariance that measures the strength and direction of the linear relationship between two variables. It ranges from -1 (perfect negative correlation) to +1 (perfect positive correlation). A value of 0 means no linear relationship.\n",
        "\n",
        "- $r = \\frac{\\text{cov}(X, Y)}{\\sigma_X \\sigma_Y}\n",
        "$\n",
        "\n",
        "Where,\n",
        "$\\sigma_X$ and $\\sigma_Y$ is the SDs of $X$ and $Y$ respectively.\n"
      ],
      "metadata": {
        "id": "R6bzptgE6q4v"
      }
    },
    {
      "cell_type": "code",
      "source": [
        "import seaborn as sns\n",
        "import numpy as np\n",
        "import pandas as pd\n",
        "\n",
        "# Loading  the Iris dataset from the seaborn library\n",
        "data = sns.load_dataset('iris')\n",
        "\n",
        "# we will be considering two variables: 'sepal_length' and 'sepal_width'\n",
        "x = data['sepal_length']\n",
        "y = data['sepal_width']"
      ],
      "metadata": {
        "id": "y-JmwYWP6M2u"
      },
      "execution_count": 32,
      "outputs": []
    },
    {
      "cell_type": "code",
      "source": [
        "# scatter plot for the sepal length and sepal width\n",
        "plt.figure(figsize=(8, 6))\n",
        "\n",
        "# Scatter plot\n",
        "sns.scatterplot(x=x, y=y)\n",
        "plt.title(\"Scatter Plot of Sepal Length vs Sepal Width\", fontsize=16)\n",
        "plt.xlabel(\"Sepal Length\", fontsize=12)\n",
        "plt.ylabel(\"Sepal Width\", fontsize=12)\n",
        "\n",
        "# # Annotating the plot with covariance and correlation values\n",
        "# plt.text(7, 4.4, f\"Cov = {cov_value:.4f}\", fontsize=12, color='red')\n",
        "# plt.text(7, 4.25, f\"Corr = {correlation_value:.4f}\", fontsize=12, color='red')\n",
        "\n",
        "# Show plot\n",
        "plt.show()"
      ],
      "metadata": {
        "colab": {
          "base_uri": "https://localhost:8080/",
          "height": 570
        },
        "id": "DGRAZPO6_of5",
        "outputId": "582c4d1b-9ccf-4bdb-88e0-6e510188c763"
      },
      "execution_count": 34,
      "outputs": [
        {
          "output_type": "display_data",
          "data": {
            "text/plain": [
              "<Figure size 800x600 with 1 Axes>"
            ],
            "image/png": "[encoded data removed]"
          },
          "metadata": {}
        }
      ]
    },
    {
      "cell_type": "code",
      "source": [
        "# Covariance\n",
        "cov_matrix = np.cov(x, y)\n",
        "cov_value = round(cov_matrix[0, 1], 3)  # Covariance between sepal_length and sepal_width\n",
        "\n",
        "cov_matrix  #the diagonal values are the var(X) and var(y) respectively"
      ],
      "metadata": {
        "colab": {
          "base_uri": "https://localhost:8080/"
        },
        "id": "dIYNCs397cMQ",
        "outputId": "5780b686-8798-43f7-8d83-356c0810beb1"
      },
      "execution_count": 36,
      "outputs": [
        {
          "output_type": "execute_result",
          "data": {
            "text/plain": [
              "array([[ 0.68569351, -0.042434  ],\n",
              "       [-0.042434  ,  0.18997942]])"
            ]
          },
          "metadata": {},
          "execution_count": 36
        }
      ]
    },
    {
      "cell_type": "code",
      "source": [
        "cov_value"
      ],
      "metadata": {
        "colab": {
          "base_uri": "https://localhost:8080/"
        },
        "id": "AlW_S2C38UHH",
        "outputId": "6b374c84-e6f1-4b14-b89a-57e77739f576"
      },
      "execution_count": 37,
      "outputs": [
        {
          "output_type": "execute_result",
          "data": {
            "text/plain": [
              "-0.042"
            ]
          },
          "metadata": {},
          "execution_count": 37
        }
      ]
    },
    {
      "cell_type": "code",
      "source": [
        "# Correlation\n",
        "correlation_matrix = np.corrcoef(x, y)\n",
        "correlation_value = round(correlation_matrix[0, 1], 3 ) # Correlation coefficient\n",
        "\n",
        "correlation_matrix"
      ],
      "metadata": {
        "colab": {
          "base_uri": "https://localhost:8080/"
        },
        "id": "rBZ0G8V37fAY",
        "outputId": "6c82829b-acbc-4550-feb8-bc6446f60b77"
      },
      "execution_count": 41,
      "outputs": [
        {
          "output_type": "execute_result",
          "data": {
            "text/plain": [
              "array([[ 1.        , -0.11756978],\n",
              "       [-0.11756978,  1.        ]])"
            ]
          },
          "metadata": {},
          "execution_count": 41
        }
      ]
    },
    {
      "cell_type": "code",
      "source": [
        "\n",
        "print(f\"Covariance: {cov_value}\")\n",
        "print(f\"\\nCorrelation: {correlation_value}\")"
      ],
      "metadata": {
        "colab": {
          "base_uri": "https://localhost:8080/"
        },
        "id": "gzPM34B27ft9",
        "outputId": "c116cf10-3b8c-45bb-d138-e20fb7aff5ae"
      },
      "execution_count": 47,
      "outputs": [
        {
          "output_type": "stream",
          "name": "stdout",
          "text": [
            "Covariance: -0.042\n",
            "\n",
            "Correlation: -0.118\n"
          ]
        }
      ]
    },
    {
      "cell_type": "markdown",
      "source": [
        "#### **Interpretation**\n",
        "- A negative covariance of **-0.042** suggests that there is a slight inverse relationship between \"sepal_length\" and sepal_width. As \"sepal_length\" increases, sepal_width tends to decrease, though this is a very weak relationship. The magnitude is small, indicating a very weak linear relationship.\n",
        "\n",
        "- A negative correlation of **-0.118** also confirms the weak inverse relationship between the two variables. The value is very close to 0, indicating that the relationship is weak. A correlation value close to 0 means that there isn't a strong linear relationship between the two variables.\n",
        "-"
      ],
      "metadata": {
        "id": "1yrbhIaukD3C"
      }
    },
    {
      "cell_type": "code",
      "source": [
        "data"
      ],
      "metadata": {
        "colab": {
          "base_uri": "https://localhost:8080/",
          "height": 423
        },
        "id": "wN-n_mlWBX9k",
        "outputId": "40bd6627-09e6-4029-916a-a202ae9d4bbc"
      },
      "execution_count": 44,
      "outputs": [
        {
          "output_type": "execute_result",
          "data": {
            "text/plain": [
              "     sepal_length  sepal_width  petal_length  petal_width    species\n",
              "0             5.1          3.5           1.4          0.2     setosa\n",
              "1             4.9          3.0           1.4          0.2     setosa\n",
              "2             4.7          3.2           1.3          0.2     setosa\n",
              "3             4.6          3.1           1.5          0.2     setosa\n",
              "4             5.0          3.6           1.4          0.2     setosa\n",
              "..            ...          ...           ...          ...        ...\n",
              "145           6.7          3.0           5.2          2.3  virginica\n",
              "146           6.3          2.5           5.0          1.9  virginica\n",
              "147           6.5          3.0           5.2          2.0  virginica\n",
              "148           6.2          3.4           5.4          2.3  virginica\n",
              "149           5.9          3.0           5.1          1.8  virginica\n",
              "\n",
              "[150 rows x 5 columns]"
            ],
            "text/html": [
              "\n",
              "  <div id=\"df-8654c14a-48fe-4494-9f8b-745ae6d0a403\" class=\"colab-df-container\">\n",
              "    <div>\n",
              "<style scoped>\n",
              "    .dataframe tbody tr th:only-of-type {\n",
              "        vertical-align: middle;\n",
              "    }\n",
              "\n",
              "    .dataframe tbody tr th {\n",
              "        vertical-align: top;\n",
              "    }\n",
              "\n",
              "    .dataframe thead th {\n",
              "        text-align: right;\n",
              "    }\n",
              "</style>\n",
              "<table border=\"1\" class=\"dataframe\">\n",
              "  <thead>\n",
              "    <tr style=\"text-align: right;\">\n",
              "      <th></th>\n",
              "      <th>sepal_length</th>\n",
              "      <th>sepal_width</th>\n",
              "      <th>petal_length</th>\n",
              "      <th>petal_width</th>\n",
              "      <th>species</th>\n",
              "    </tr>\n",
              "  </thead>\n",
              "  <tbody>\n",
              "    <tr>\n",
              "      <th>0</th>\n",
              "      <td>5.1</td>\n",
              "      <td>3.5</td>\n",
              "      <td>1.4</td>\n",
              "      <td>0.2</td>\n",
              "      <td>setosa</td>\n",
              "    </tr>\n",
              "    <tr>\n",
              "      <th>1</th>\n",
              "      <td>4.9</td>\n",
              "      <td>3.0</td>\n",
              "      <td>1.4</td>\n",
              "      <td>0.2</td>\n",
              "      <td>setosa</td>\n",
              "    </tr>\n",
              "    <tr>\n",
              "      <th>2</th>\n",
              "      <td>4.7</td>\n",
              "      <td>3.2</td>\n",
              "      <td>1.3</td>\n",
              "      <td>0.2</td>\n",
              "      <td>setosa</td>\n",
              "    </tr>\n",
              "    <tr>\n",
              "      <th>3</th>\n",
              "      <td>4.6</td>\n",
              "      <td>3.1</td>\n",
              "      <td>1.5</td>\n",
              "      <td>0.2</td>\n",
              "      <td>setosa</td>\n",
              "    </tr>\n",
              "    <tr>\n",
              "      <th>4</th>\n",
              "      <td>5.0</td>\n",
              "      <td>3.6</td>\n",
              "      <td>1.4</td>\n",
              "      <td>0.2</td>\n",
              "      <td>setosa</td>\n",
              "    </tr>\n",
              "    <tr>\n",
              "      <th>...</th>\n",
              "      <td>...</td>\n",
              "      <td>...</td>\n",
              "      <td>...</td>\n",
              "      <td>...</td>\n",
              "      <td>...</td>\n",
              "    </tr>\n",
              "    <tr>\n",
              "      <th>145</th>\n",
              "      <td>6.7</td>\n",
              "      <td>3.0</td>\n",
              "      <td>5.2</td>\n",
              "      <td>2.3</td>\n",
              "      <td>virginica</td>\n",
              "    </tr>\n",
              "    <tr>\n",
              "      <th>146</th>\n",
              "      <td>6.3</td>\n",
              "      <td>2.5</td>\n",
              "      <td>5.0</td>\n",
              "      <td>1.9</td>\n",
              "      <td>virginica</td>\n",
              "    </tr>\n",
              "    <tr>\n",
              "      <th>147</th>\n",
              "      <td>6.5</td>\n",
              "      <td>3.0</td>\n",
              "      <td>5.2</td>\n",
              "      <td>2.0</td>\n",
              "      <td>virginica</td>\n",
              "    </tr>\n",
              "    <tr>\n",
              "      <th>148</th>\n",
              "      <td>6.2</td>\n",
              "      <td>3.4</td>\n",
              "      <td>5.4</td>\n",
              "      <td>2.3</td>\n",
              "      <td>virginica</td>\n",
              "    </tr>\n",
              "    <tr>\n",
              "      <th>149</th>\n",
              "      <td>5.9</td>\n",
              "      <td>3.0</td>\n",
              "      <td>5.1</td>\n",
              "      <td>1.8</td>\n",
              "      <td>virginica</td>\n",
              "    </tr>\n",
              "  </tbody>\n",
              "</table>\n",
              "<p>150 rows × 5 columns</p>\n",
              "</div>\n",
              "    <div class=\"colab-df-buttons\">\n",
              "\n",
              "  <div class=\"colab-df-container\">\n",
              "    <button class=\"colab-df-convert\" onclick=\"convertToInteractive('df-8654c14a-48fe-4494-9f8b-745ae6d0a403')\"\n",
              "            title=\"Convert this dataframe to an interactive table.\"\n",
              "            style=\"display:none;\">\n",
              "\n",
              "  <svg xmlns=\"http://www.w3.org/2000/svg\" height=\"24px\" viewBox=\"0 -960 960 960\">\n",
              "    <path d=\"M120-120v-720h720v720H120Zm60-500h600v-160H180v160Zm220 220h160v-160H400v160Zm0 220h160v-160H400v160ZM180-400h160v-160H180v160Zm440 0h160v-160H620v160ZM180-180h160v-160H180v160Zm440 0h160v-160H620v160Z\"/>\n",
              "  </svg>\n",
              "    </button>\n",
              "\n",
              "  <style>\n",
              "    .colab-df-container {\n",
              "      display:flex;\n",
              "      gap: 12px;\n",
              "    }\n",
              "\n",
              "    .colab-df-convert {\n",
              "      background-color: #E8F0FE;\n",
              "      border: none;\n",
              "      border-radius: 50%;\n",
              "      cursor: pointer;\n",
              "      display: none;\n",
              "      fill: #1967D2;\n",
              "      height: 32px;\n",
              "      padding: 0 0 0 0;\n",
              "      width: 32px;\n",
              "    }\n",
              "\n",
              "    .colab-df-convert:hover {\n",
              "      background-color: #E2EBFA;\n",
              "      box-shadow: 0px 1px 2px rgba(60, 64, 67, 0.3), 0px 1px 3px 1px rgba(60, 64, 67, 0.15);\n",
              "      fill: #174EA6;\n",
              "    }\n",
              "\n",
              "    .colab-df-buttons div {\n",
              "      margin-bottom: 4px;\n",
              "    }\n",
              "\n",
              "    [theme=dark] .colab-df-convert {\n",
              "      background-color: #3B4455;\n",
              "      fill: #D2E3FC;\n",
              "    }\n",
              "\n",
              "    [theme=dark] .colab-df-convert:hover {\n",
              "      background-color: #434B5C;\n",
              "      box-shadow: 0px 1px 3px 1px rgba(0, 0, 0, 0.15);\n",
              "      filter: drop-shadow(0px 1px 2px rgba(0, 0, 0, 0.3));\n",
              "      fill: #FFFFFF;\n",
              "    }\n",
              "  </style>\n",
              "\n",
              "    <script>\n",
              "      const buttonEl =\n",
              "        document.querySelector('#df-8654c14a-48fe-4494-9f8b-745ae6d0a403 button.colab-df-convert');\n",
              "      buttonEl.style.display =\n",
              "        google.colab.kernel.accessAllowed ? 'block' : 'none';\n",
              "\n",
              "      async function convertToInteractive(key) {\n",
              "        const element = document.querySelector('#df-8654c14a-48fe-4494-9f8b-745ae6d0a403');\n",
              "        const dataTable =\n",
              "          await google.colab.kernel.invokeFunction('convertToInteractive',\n",
              "                                                    [key], {});\n",
              "        if (!dataTable) return;\n",
              "\n",
              "        const docLinkHtml = 'Like what you see? Visit the ' +\n",
              "          '<a target=\"_blank\" href=https://colab.research.google.com/notebooks/data_table.ipynb>data table notebook</a>'\n",
              "          + ' to learn more about interactive tables.';\n",
              "        element.innerHTML = '';\n",
              "        dataTable['output_type'] = 'display_data';\n",
              "        await google.colab.output.renderOutput(dataTable, element);\n",
              "        const docLink = document.createElement('div');\n",
              "        docLink.innerHTML = docLinkHtml;\n",
              "        element.appendChild(docLink);\n",
              "      }\n",
              "    </script>\n",
              "  </div>\n",
              "\n",
              "\n",
              "<div id=\"df-2bbf3bcc-51e9-4740-8c5b-7e9c18e68aae\">\n",
              "  <button class=\"colab-df-quickchart\" onclick=\"quickchart('df-2bbf3bcc-51e9-4740-8c5b-7e9c18e68aae')\"\n",
              "            title=\"Suggest charts\"\n",
              "            style=\"display:none;\">\n",
              "\n",
              "<svg xmlns=\"http://www.w3.org/2000/svg\" height=\"24px\"viewBox=\"0 0 24 24\"\n",
              "     width=\"24px\">\n",
              "    <g>\n",
              "        <path d=\"M19 3H5c-1.1 0-2 .9-2 2v14c0 1.1.9 2 2 2h14c1.1 0 2-.9 2-2V5c0-1.1-.9-2-2-2zM9 17H7v-7h2v7zm4 0h-2V7h2v10zm4 0h-2v-4h2v4z\"/>\n",
              "    </g>\n",
              "</svg>\n",
              "  </button>\n",
              "\n",
              "<style>\n",
              "  .colab-df-quickchart {\n",
              "      --bg-color: #E8F0FE;\n",
              "      --fill-color: #1967D2;\n",
              "      --hover-bg-color: #E2EBFA;\n",
              "      --hover-fill-color: #174EA6;\n",
              "      --disabled-fill-color: #AAA;\n",
              "      --disabled-bg-color: #DDD;\n",
              "  }\n",
              "\n",
              "  [theme=dark] .colab-df-quickchart {\n",
              "      --bg-color: #3B4455;\n",
              "      --fill-color: #D2E3FC;\n",
              "      --hover-bg-color: #434B5C;\n",
              "      --hover-fill-color: #FFFFFF;\n",
              "      --disabled-bg-color: #3B4455;\n",
              "      --disabled-fill-color: #666;\n",
              "  }\n",
              "\n",
              "  .colab-df-quickchart {\n",
              "    background-color: var(--bg-color);\n",
              "    border: none;\n",
              "    border-radius: 50%;\n",
              "    cursor: pointer;\n",
              "    display: none;\n",
              "    fill: var(--fill-color);\n",
              "    height: 32px;\n",
              "    padding: 0;\n",
              "    width: 32px;\n",
              "  }\n",
              "\n",
              "  .colab-df-quickchart:hover {\n",
              "    background-color: var(--hover-bg-color);\n",
              "    box-shadow: 0 1px 2px rgba(60, 64, 67, 0.3), 0 1px 3px 1px rgba(60, 64, 67, 0.15);\n",
              "    fill: var(--button-hover-fill-color);\n",
              "  }\n",
              "\n",
              "  .colab-df-quickchart-complete:disabled,\n",
              "  .colab-df-quickchart-complete:disabled:hover {\n",
              "    background-color: var(--disabled-bg-color);\n",
              "    fill: var(--disabled-fill-color);\n",
              "    box-shadow: none;\n",
              "  }\n",
              "\n",
              "  .colab-df-spinner {\n",
              "    border: 2px solid var(--fill-color);\n",
              "    border-color: transparent;\n",
              "    border-bottom-color: var(--fill-color);\n",
              "    animation:\n",
              "      spin 1s steps(1) infinite;\n",
              "  }\n",
              "\n",
              "  @keyframes spin {\n",
              "    0% {\n",
              "      border-color: transparent;\n",
              "      border-bottom-color: var(--fill-color);\n",
              "      border-left-color: var(--fill-color);\n",
              "    }\n",
              "    20% {\n",
              "      border-color: transparent;\n",
              "      border-left-color: var(--fill-color);\n",
              "      border-top-color: var(--fill-color);\n",
              "    }\n",
              "    30% {\n",
              "      border-color: transparent;\n",
              "      border-left-color: var(--fill-color);\n",
              "      border-top-color: var(--fill-color);\n",
              "      border-right-color: var(--fill-color);\n",
              "    }\n",
              "    40% {\n",
              "      border-color: transparent;\n",
              "      border-right-color: var(--fill-color);\n",
              "      border-top-color: var(--fill-color);\n",
              "    }\n",
              "    60% {\n",
              "      border-color: transparent;\n",
              "      border-right-color: var(--fill-color);\n",
              "    }\n",
              "    80% {\n",
              "      border-color: transparent;\n",
              "      border-right-color: var(--fill-color);\n",
              "      border-bottom-color: var(--fill-color);\n",
              "    }\n",
              "    90% {\n",
              "      border-color: transparent;\n",
              "      border-bottom-color: var(--fill-color);\n",
              "    }\n",
              "  }\n",
              "</style>\n",
              "\n",
              "  <script>\n",
              "    async function quickchart(key) {\n",
              "      const quickchartButtonEl =\n",
              "        document.querySelector('#' + key + ' button');\n",
              "      quickchartButtonEl.disabled = true;  // To prevent multiple clicks.\n",
              "      quickchartButtonEl.classList.add('colab-df-spinner');\n",
              "      try {\n",
              "        const charts = await google.colab.kernel.invokeFunction(\n",
              "            'suggestCharts', [key], {});\n",
              "      } catch (error) {\n",
              "        console.error('Error during call to suggestCharts:', error);\n",
              "      }\n",
              "      quickchartButtonEl.classList.remove('colab-df-spinner');\n",
              "      quickchartButtonEl.classList.add('colab-df-quickchart-complete');\n",
              "    }\n",
              "    (() => {\n",
              "      let quickchartButtonEl =\n",
              "        document.querySelector('#df-2bbf3bcc-51e9-4740-8c5b-7e9c18e68aae button');\n",
              "      quickchartButtonEl.style.display =\n",
              "        google.colab.kernel.accessAllowed ? 'block' : 'none';\n",
              "    })();\n",
              "  </script>\n",
              "</div>\n",
              "\n",
              "  <div id=\"id_d415ce94-1e4e-4fc9-a232-c8b3199f47b2\">\n",
              "    <style>\n",
              "      .colab-df-generate {\n",
              "        background-color: #E8F0FE;\n",
              "        border: none;\n",
              "        border-radius: 50%;\n",
              "        cursor: pointer;\n",
              "        display: none;\n",
              "        fill: #1967D2;\n",
              "        height: 32px;\n",
              "        padding: 0 0 0 0;\n",
              "        width: 32px;\n",
              "      }\n",
              "\n",
              "      .colab-df-generate:hover {\n",
              "        background-color: #E2EBFA;\n",
              "        box-shadow: 0px 1px 2px rgba(60, 64, 67, 0.3), 0px 1px 3px 1px rgba(60, 64, 67, 0.15);\n",
              "        fill: #174EA6;\n",
              "      }\n",
              "\n",
              "      [theme=dark] .colab-df-generate {\n",
              "        background-color: #3B4455;\n",
              "        fill: #D2E3FC;\n",
              "      }\n",
              "\n",
              "      [theme=dark] .colab-df-generate:hover {\n",
              "        background-color: #434B5C;\n",
              "        box-shadow: 0px 1px 3px 1px rgba(0, 0, 0, 0.15);\n",
              "        filter: drop-shadow(0px 1px 2px rgba(0, 0, 0, 0.3));\n",
              "        fill: #FFFFFF;\n",
              "      }\n",
              "    </style>\n",
              "    <button class=\"colab-df-generate\" onclick=\"generateWithVariable('data')\"\n",
              "            title=\"Generate code using this dataframe.\"\n",
              "            style=\"display:none;\">\n",
              "\n",
              "  <svg xmlns=\"http://www.w3.org/2000/svg\" height=\"24px\"viewBox=\"0 0 24 24\"\n",
              "       width=\"24px\">\n",
              "    <path d=\"M7,19H8.4L18.45,9,17,7.55,7,17.6ZM5,21V16.75L18.45,3.32a2,2,0,0,1,2.83,0l1.4,1.43a1.91,1.91,0,0,1,.58,1.4,1.91,1.91,0,0,1-.58,1.4L9.25,21ZM18.45,9,17,7.55Zm-12,3A5.31,5.31,0,0,0,4.9,8.1,5.31,5.31,0,0,0,1,6.5,5.31,5.31,0,0,0,4.9,4.9,5.31,5.31,0,0,0,6.5,1,5.31,5.31,0,0,0,8.1,4.9,5.31,5.31,0,0,0,12,6.5,5.46,5.46,0,0,0,6.5,12Z\"/>\n",
              "  </svg>\n",
              "    </button>\n",
              "    <script>\n",
              "      (() => {\n",
              "      const buttonEl =\n",
              "        document.querySelector('#id_d415ce94-1e4e-4fc9-a232-c8b3199f47b2 button.colab-df-generate');\n",
              "      buttonEl.style.display =\n",
              "        google.colab.kernel.accessAllowed ? 'block' : 'none';\n",
              "\n",
              "      buttonEl.onclick = () => {\n",
              "        google.colab.notebook.generateWithVariable('data');\n",
              "      }\n",
              "      })();\n",
              "    </script>\n",
              "  </div>\n",
              "\n",
              "    </div>\n",
              "  </div>\n"
            ],
            "application/vnd.google.colaboratory.intrinsic+json": {
              "type": "dataframe",
              "variable_name": "data",
              "summary": "{\n  \"name\": \"data\",\n  \"rows\": 150,\n  \"fields\": [\n    {\n      \"column\": \"sepal_length\",\n      \"properties\": {\n        \"dtype\": \"number\",\n        \"std\": 0.8280661279778629,\n        \"min\": 4.3,\n        \"max\": 7.9,\n        \"num_unique_values\": 35,\n        \"samples\": [\n          6.2,\n          4.5,\n          5.6\n        ],\n        \"semantic_type\": \"\",\n        \"description\": \"\"\n      }\n    },\n    {\n      \"column\": \"sepal_width\",\n      \"properties\": {\n        \"dtype\": \"number\",\n        \"std\": 0.435866284936698,\n        \"min\": 2.0,\n        \"max\": 4.4,\n        \"num_unique_values\": 23,\n        \"samples\": [\n          2.3,\n          4.0,\n          3.5\n        ],\n        \"semantic_type\": \"\",\n        \"description\": \"\"\n      }\n    },\n    {\n      \"column\": \"petal_length\",\n      \"properties\": {\n        \"dtype\": \"number\",\n        \"std\": 1.7652982332594667,\n        \"min\": 1.0,\n        \"max\": 6.9,\n        \"num_unique_values\": 43,\n        \"samples\": [\n          6.7,\n          3.8,\n          3.7\n        ],\n        \"semantic_type\": \"\",\n        \"description\": \"\"\n      }\n    },\n    {\n      \"column\": \"petal_width\",\n      \"properties\": {\n        \"dtype\": \"number\",\n        \"std\": 0.7622376689603465,\n        \"min\": 0.1,\n        \"max\": 2.5,\n        \"num_unique_values\": 22,\n        \"samples\": [\n          0.2,\n          1.2,\n          1.3\n        ],\n        \"semantic_type\": \"\",\n        \"description\": \"\"\n      }\n    },\n    {\n      \"column\": \"species\",\n      \"properties\": {\n        \"dtype\": \"category\",\n        \"num_unique_values\": 3,\n        \"samples\": [\n          \"setosa\",\n          \"versicolor\",\n          \"virginica\"\n        ],\n        \"semantic_type\": \"\",\n        \"description\": \"\"\n      }\n    }\n  ]\n}"
            }
          },
          "metadata": {},
          "execution_count": 44
        }
      ]
    }
  ]
}